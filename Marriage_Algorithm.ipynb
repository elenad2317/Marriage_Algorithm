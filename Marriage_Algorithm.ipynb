{
 "cells": [
  {
   "cell_type": "code",
   "execution_count": 1,
   "metadata": {
    "collapsed": true
   },
   "outputs": [],
   "source": [
    "import csv\n",
    "import collections"
   ]
  },
  {
   "cell_type": "code",
   "execution_count": 109,
   "metadata": {
    "collapsed": true
   },
   "outputs": [],
   "source": [
    "class Entry:\n",
    "    def __init__(self, name, rooms):\n",
    "        self.name = name.upper()\n",
    "        self.rooms = rooms\n",
    "        self.ratings = {}\n",
    "        self.taken = set()\n",
    "\n",
    "    def __str__(self):\n",
    "        return '<{0} Entry>'.format(self.name)\n",
    "\n",
    "    def __repr__(self):\n",
    "        return self.__str__()\n",
    "\n",
    "    def add_rating(self, freshman, rating):\n",
    "        self.ratings[freshman.name] = rating\n",
    "\n",
    "    def can_take(self, freshman):\n",
    "        return self.rooms[freshman.gender] + self.rooms['U'] > 0 \n",
    "\n",
    "    def take(self, freshman):\n",
    "        self.taken.add(freshman)\n",
    "        if self.rooms[freshman.gender] > 0:\n",
    "            self.rooms[freshman.gender] -= 1\n",
    "        else:\n",
    "            self.rooms['U'] -= 1\n",
    "\n",
    "    def add_to_round(self, freshman):\n",
    "        self.current_round.add(freshman)\n",
    "\n",
    "    def process_round(self):\n",
    "        frosh = sorted(self.current_round, key=lambda f: (-self.ratings[f.name], len(Entries)))\n",
    "        taken, dropped = set(), set()\n",
    "        for freshman in frosh:\n",
    "            if self.can_take(freshman):\n",
    "                self.take(freshman)\n",
    "                taken.add(freshman)\n",
    "            else:\n",
    "                dropped.add(freshman)\n",
    "\n",
    "        return taken, dropped\n"
   ]
  },
  {
   "cell_type": "code",
   "execution_count": 158,
   "metadata": {
    "collapsed": false
   },
   "outputs": [],
   "source": [
    "class Freshman:\n",
    "    def __init__(self, name, gender, rankings):\n",
    "        self.name = name\n",
    "        self.gender = gender\n",
    "        self.rankings = rankings\n",
    "\n",
    "    def __str__(self):\n",
    "        return '<Freshman: {0}>'.format(self.name)\n",
    "\n",
    "    def __repr__(self):\n",
    "        return self.__str__()\n",
    "\n",
    "    def favorite_entry(self):\n",
    "        if min(self.rankings.values()) == float('inf'):\n",
    "            raise Exception(self.rankings)\n",
    "        Min = 10000\n",
    "        Entry = None \n",
    "        for key in self.rankings:\n",
    "            if self.rankings[key] < Min: \n",
    "                Min = self.rankings[key]\n",
    "                Entry = key \n",
    "        return Entry\n",
    "\n",
    "    def rejected_by(self, entry):\n",
    "        self.rankings[entry.name] = float('inf')\n"
   ]
  },
  {
   "cell_type": "markdown",
   "metadata": {},
   "source": [
    "#Imports"
   ]
  },
  {
   "cell_type": "markdown",
   "metadata": {},
   "source": [
    "For each entry, create an instance of Entry and put it in Entries"
   ]
  },
  {
   "cell_type": "code",
   "execution_count": 111,
   "metadata": {
    "collapsed": false
   },
   "outputs": [],
   "source": [
    "def add_entries(entry_csv):\n",
    "    with open(entry_csv) as f:\n",
    "        for line in csv.reader(f):\n",
    "            name = line[0].strip()\n",
    "            m, f, u = map(int, line[1:])\n",
    "            rooms = {\n",
    "                'M': m,\n",
    "                'F': f,\n",
    "                'U': u,\n",
    "            }\n",
    "            entry = Entry(name, rooms)\n",
    "            Entries[name] = entry"
   ]
  },
  {
   "cell_type": "markdown",
   "metadata": {},
   "source": [
    "For each freshman, create an instance of Freshman and put it in Frosh"
   ]
  },
  {
   "cell_type": "code",
   "execution_count": 112,
   "metadata": {
    "collapsed": false
   },
   "outputs": [],
   "source": [
    "def frosh_prefs(frosh_prefs):\n",
    "    with open(frosh_prefs) as f:\n",
    "        for line in csv.reader(f):\n",
    "            name = line[0].strip()\n",
    "            gender = line[2].strip()\n",
    "            a, b, c, d, e, f, g, h, j = map(int, line[3:])\n",
    "            rankings = dict(zip(['A', 'B', 'C', 'D', 'E', 'F', 'G', 'H', 'J'], [a, b, c, d, e, f, g, h, j]))\n",
    "\n",
    "            if set(rankings.values()) != set(range(1, 10)):\n",
    "                raise Exception('Unusable preferences: {0}'.format(name))\n",
    "            freshman = Freshman(name, gender, rankings)\n",
    "            Frosh[name] = freshman"
   ]
  },
  {
   "cell_type": "markdown",
   "metadata": {},
   "source": [
    "For each frosh, add entry ratings. If improperly formatted, will return infinity"
   ]
  },
  {
   "cell_type": "code",
   "execution_count": 113,
   "metadata": {
    "collapsed": false
   },
   "outputs": [],
   "source": [
    "def entry_prefs(entry_prefs):\n",
    "    with open(entry_prefs) as f:\n",
    "        for line in csv.reader(f):\n",
    "            name = line[0].strip()\n",
    "            s = ''\n",
    "            for char in name: \n",
    "                if char == ' ':\n",
    "                    s += ';'\n",
    "                else:\n",
    "                    s+= char\n",
    "            freshman = Frosh[s]\n",
    "            if len(line[1:]) == 9:\n",
    "                a, b, c, d, e, f, g, h, j = map(int, line[1:])\n",
    "                for entry_name, rating in zip(['A', 'B', 'C', 'D', 'E', 'F', 'G', 'H', 'J'], [a, b, c, d, e, f, g, h, j]):\n",
    "                    entry = Entries[entry_name]\n",
    "                    entry.add_rating(freshman, rating)\n",
    "            else: \n",
    "                del Frosh[freshman.name]"
   ]
  },
  {
   "cell_type": "markdown",
   "metadata": {},
   "source": [
    "#If entry gave a 6 and frosh put them in top 3, place automatically "
   ]
  },
  {
   "cell_type": "code",
   "execution_count": 114,
   "metadata": {
    "collapsed": false
   },
   "outputs": [],
   "source": [
    "def greasing(Entries, Frosh):\n",
    "    greasing = {}\n",
    "    for entry in Entries.values():\n",
    "        for f_name, rating in entry.ratings.items():\n",
    "            freshman = Frosh[f_name]\n",
    "            ranking = freshman.rankings[entry.name]\n",
    "            if rating == 6 and ranking <= 3:\n",
    "                if freshman in greasing:\n",
    "                    greasy_entry = greasing[freshman]\n",
    "                    if freshman.rankings[greasy_entry.name] < ranking: # frosh likes greasy better\n",
    "                        greasing[freshman] = entry\n",
    "                else:\n",
    "                    greasing[freshman] = entry\n",
    "    return greasing"
   ]
  },
  {
   "cell_type": "code",
   "execution_count": 115,
   "metadata": {
    "collapsed": false
   },
   "outputs": [],
   "source": [
    "def grease_placement(greasing, Entries, Frosh):\n",
    "    for freshman, entry in greasing.items():\n",
    "        if entry.can_take(freshman):\n",
    "            entry.take(freshman)\n",
    "            del Frosh[freshman.name]\n"
   ]
  },
  {
   "cell_type": "markdown",
   "metadata": {},
   "source": [
    "#Marriage Algorithm"
   ]
  },
  {
   "cell_type": "code",
   "execution_count": 174,
   "metadata": {
    "collapsed": false
   },
   "outputs": [],
   "source": [
    "def getMarried(Entries, Frosh):\n",
    "    while len(Frosh) > 0:  \n",
    "        for entry in Entries.values(): \n",
    "            entry.current_round = set()\n",
    "        for freshman in Frosh.values(): \n",
    "            favorite_entry = freshman.favorite_entry()\n",
    "            Entries[favorite_entry].current_round.add(freshman)\n",
    "        for entry in Entries.values():\n",
    "            taken, dropped = entry.process_round()\n",
    "            for freshman in taken: \n",
    "                del Frosh[freshman.name]\n",
    "            for freshman in dropped: \n",
    "                freshman.rejected_by(entry)         \n",
    "    return Entries \n",
    "    "
   ]
  },
  {
   "cell_type": "markdown",
   "metadata": {},
   "source": [
    "#Let's do it!!"
   ]
  },
  {
   "cell_type": "code",
   "execution_count": 175,
   "metadata": {
    "collapsed": true
   },
   "outputs": [],
   "source": [
    "Entries = {}\n",
    "Frosh = {}"
   ]
  },
  {
   "cell_type": "code",
   "execution_count": 176,
   "metadata": {
    "collapsed": false
   },
   "outputs": [],
   "source": [
    "add_entries('entries.csv')\n",
    "frosh_prefs('finalfroshprefs.csv')\n",
    "entry_prefs('entryprefs.csv')"
   ]
  },
  {
   "cell_type": "code",
   "execution_count": 177,
   "metadata": {
    "collapsed": false
   },
   "outputs": [
    {
     "data": {
      "text/plain": [
       "{'A': <A Entry>,\n",
       " 'B': <B Entry>,\n",
       " 'C': <C Entry>,\n",
       " 'D': <D Entry>,\n",
       " 'E': <E Entry>,\n",
       " 'F': <F Entry>,\n",
       " 'G': <G Entry>,\n",
       " 'H': <H Entry>,\n",
       " 'J': <J Entry>}"
      ]
     },
     "execution_count": 177,
     "metadata": {},
     "output_type": "execute_result"
    }
   ],
   "source": [
    "g = greasing(Entries, Frosh)\n",
    "grease_placement(g, Entries, Frosh)\n",
    "getMarried(Entries, Frosh)"
   ]
  },
  {
   "cell_type": "code",
   "execution_count": 181,
   "metadata": {
    "collapsed": false
   },
   "outputs": [
    {
     "name": "stdout",
     "output_type": "stream",
     "text": [
      "CHECK 1:  True\n",
      "CHECK 2:  True\n"
     ]
    }
   ],
   "source": [
    "## CHECK 1: ALL FROSH TAKEN \n",
    "print \"CHECK 1: \", len(Frosh) == 0\n",
    "## CHeck 2: No FROSH PLACED TWICE\n",
    "froshies = []\n",
    "for entry in Entries.values():\n",
    "    for frosh in entry.taken:\n",
    "        if frosh not in froshies: \n",
    "            froshies.append(frosh)\n",
    "        else:\n",
    "            print \"CHECK 2: \", False\n",
    "print \"CHECK 2: \",True"
   ]
  },
  {
   "cell_type": "code",
   "execution_count": 184,
   "metadata": {
    "collapsed": false
   },
   "outputs": [
    {
     "name": "stdout",
     "output_type": "stream",
     "text": [
      "A\n",
      "Jessica;Pointing\n",
      "Clare;Farley\n",
      "Abraham;Gertler\n",
      "Cristina;Martinez-Acha\n",
      "Vitoria;Moreno-Costa\n",
      "Luke;Weisenbach\n",
      "David;Klee\n",
      "Yoeal;Efrem\n",
      "Mariya;Layurova\n",
      "Shu-Yun(Gina);Liu\n",
      "Alexandra;Angelo\n",
      "An;Liu\n",
      "Richard;Yip\n",
      "Luana;Lara\n",
      "Josef;Hazi\n",
      "Ekin;Karasan\n",
      "Bryan;Lilley\n",
      "\n",
      "\n",
      "C\n",
      "Matthew;McClain\n",
      "Qingqi;Zeng\n",
      "Varun;Mohan\n",
      "Kevin;Zhu\n",
      "\n",
      "\n",
      "B\n",
      "Elliot;Owen\n",
      "Alasdair;Hastewell\n",
      "James;Mawdsley\n",
      "Vickie;Wang\n",
      "Andrea;Herman\n",
      "Isabella;Pecorari\n",
      "Marayna;Martinez\n",
      "Michael;Janner\n",
      "Katherine;Paseman\n",
      "\n",
      "\n",
      "E\n",
      "Devany;West\n",
      "David;Vaccaro\n",
      "Megan;Chao\n",
      "Aaron;Zeng\n",
      "Kimberly;Dauber\n",
      "Isac;Hernandez\n",
      "\n",
      "\n",
      "D\n",
      "Natalie;Nicolas\n",
      "Sicong;Shen\n",
      "Ji-Hyun;Min\n",
      "Hiram;Moncivais\n",
      "Caroline;Liu\n",
      "Joyce;Chen\n",
      "Richard;Ibekwe\n",
      "Donovan;Sienkiewicz\n",
      "Michelle;Huang\n",
      "Jae-Hyun;Kim\n",
      "Stacy;Ho\n",
      "Barry;McNamara\n",
      "Kevin;Liu\n",
      "Reid;Akana\n",
      "Jennifer;Switzer\n",
      "Leigh;Braswell\n",
      "Joseph;Lin\n",
      "\n",
      "\n",
      "G\n",
      "Oluwafemi;Oladipupo\n",
      "Jing-Xian;Wang\n",
      "Jesse;Gibson\n",
      "Kolby;Danner\n",
      "Katie;Dunn\n",
      "Ty;Ingram\n",
      "Trang;Luu\n",
      "Matthew;Khoury\n",
      "Zachary;Hall\n",
      "Lisa;Deng\n",
      "Mustafa;Ben\n",
      "Caspar;Stinn\n",
      "Alan;Alahmad\n",
      "Ethan;Witt\n",
      "\n",
      "\n",
      "F\n",
      "Mohannad;Abunassar\n",
      "Elizabeth;Strand\n",
      "William;Harvey\n",
      "Abigail;Harvey\n",
      "Olivia;Zhao\n",
      "Kyle;Pina\n",
      "Leigh-Ana;Rossitto\n",
      "Alexander;Leide\n",
      "Amanda;Ke\n",
      "Christina;Dalzell\n",
      "Samuel;Schendel\n",
      "Oghenefejiro;Oruerio\n",
      "Lorcan;Murphy\n",
      "Dimitrios;Koutentakis\n",
      "Henderson;Cole\n",
      "Avianna;Vyff\n",
      "Hannah;Rudoltz\n",
      "Julia;Goupil\n",
      "\n",
      "\n",
      "H\n",
      "Mason;Grimshaw\n",
      "Mark;Green\n",
      "Nafea;Alwafi\n",
      "Anna;Sinelnikova\n",
      "Jessica;Sun\n",
      "Jason;Villanueva\n",
      "Leah;Goggin\n",
      "Alexandra;Sourakov\n",
      "Sarah;Shader\n",
      "ZiKang;Gan\n",
      "Alexandria;Velez\n",
      "Eduardo;Orozco\n",
      "\n",
      "\n",
      "J\n",
      "Samuel;Song\n",
      "Jacob;Martin\n",
      "Yonah;Borns-Weil\n",
      "Rahul;Sridhar\n",
      "Jan;Okle\n",
      "James;Payor\n",
      "Jan;Carius\n",
      "Jonathan;Paras\n",
      "\n",
      "\n"
     ]
    }
   ],
   "source": [
    "for entry in Entries.values(): \n",
    "    print entry.name \n",
    "    for freshman in entry.taken: \n",
    "        print freshman.name\n",
    "    print \"\\n\""
   ]
  },
  {
   "cell_type": "code",
   "execution_count": null,
   "metadata": {
    "collapsed": true
   },
   "outputs": [],
   "source": []
  }
 ],
 "metadata": {
  "kernelspec": {
   "display_name": "Python 2",
   "language": "python",
   "name": "python2"
  },
  "language_info": {
   "codemirror_mode": {
    "name": "ipython",
    "version": 2
   },
   "file_extension": ".py",
   "mimetype": "text/x-python",
   "name": "python",
   "nbconvert_exporter": "python",
   "pygments_lexer": "ipython2",
   "version": "2.7.3"
  }
 },
 "nbformat": 4,
 "nbformat_minor": 0
}
